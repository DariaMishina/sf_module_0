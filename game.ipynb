{
 "cells": [
  {
   "cell_type": "code",
   "execution_count": 1,
   "metadata": {},
   "outputs": [
    {
     "name": "stdout",
     "output_type": "stream",
     "text": [
      "Ваш алгоритм угадывает значение в среднем за 5 попыток\n"
     ]
    },
    {
     "data": {
      "text/plain": [
       "5"
      ]
     },
     "execution_count": 1,
     "metadata": {},
     "output_type": "execute_result"
    }
   ],
   "source": [
    "import numpy as np\n",
    "def game_core_v3(): #утащила у кого-то из тредов, что так можно - не указывать аргумент в функции\n",
    "    count = 0 # счетчик попыток\n",
    "    N = 100 #задаем верхнюю границу диапазона для угадываемого числа\n",
    "    predict = np.random.randint(1,N) # загадываем число\n",
    "    \n",
    "    left = 1 #нижняя левая граница диапазона для угадывания, ктр будем двигать\n",
    "    right = N #верхняя правая граница диапазона для угадывания, ктр будем двигать\n",
    "    while left <= right: # условие для цикла while\n",
    "        count += 1 # накручиваем попытки\n",
    "        current = (left+right)//2 #сужаем диапазон угадывания - считаем середину диапазона угадывания\n",
    "        if predict < current: #если загаданное число меньше рассчитанной середины\n",
    "            right = current - 1 # уменьшаем верхнюю границу\n",
    "        elif predict > current: # если больше \n",
    "            left = current + 1 # увеличиваем нижнюю границу\n",
    "        else:\n",
    "            break #прерываем цикл\n",
    "    return count # в результате функция возвращает число попыток угадывания\n",
    "\n",
    "#эту адаптацию я утащила у кого-то из тредов \n",
    "def score_game(game_core_v3):\n",
    "    ls_count = []\n",
    "    for i in range(1,1001):\n",
    "        c = game_core_v3() #в переменную записали предыдущую функцию\n",
    "        ls_count.append(c) # и вкорячили функцию в append\n",
    "    score = int(np.mean(ls_count))\n",
    "    print('Ваш алгоритм угадывает значение в среднем за {} попыток'.format(score))\n",
    "    return score\n",
    "\n",
    "\n",
    "score_game(game_core_v3)"
   ]
  },
  {
   "cell_type": "code",
   "execution_count": 3,
   "metadata": {},
   "outputs": [
    {
     "name": "stdout",
     "output_type": "stream",
     "text": [
      "Ваш алгоритм угадывает число в среднем за 5 попыток\n"
     ]
    },
    {
     "data": {
      "text/plain": [
       "5"
      ]
     },
     "execution_count": 3,
     "metadata": {},
     "output_type": "execute_result"
    }
   ],
   "source": [
    "import numpy as np\n",
    "def game_core_v4(current):\n",
    "    count = 0 # счетчик попыток\n",
    "    N = 100 #задаем верхнюю границу диапазона для угадываемого числа\n",
    "    predict = np.random.randint(1,N) # загадываем число\n",
    "    \n",
    "    left = 1 #нижняя левая граница диапазона для угадывания, ктр будем двигать\n",
    "    right = N #верхняя правая граница диапазона для угадывания, ктр будем двигать\n",
    "    while left <= right: # условие для цикла while\n",
    "        count += 1 # накручиваем попытки\n",
    "        current = (left+right)//2 #сужаем диапазон угадывания - считаем середину диапазона угадывания\n",
    "        if predict < current: #если загаданное число меньше рассчитанной середины\n",
    "            right = current - 1 # уменьшаем верхнюю границу\n",
    "        elif predict > current: # если больше \n",
    "            left = current + 1 # увеличиваем нижнюю границу\n",
    "        else:\n",
    "            break #прерываем цикл\n",
    "    return count # в результате функция возвращает число попыток угадывания\n",
    "\n",
    "#вот это подсчет попыток как в задании, очень долго тупила, что надо заменить number на current \n",
    "def score_game(game_core_v4): # в качестве аргумента указала \"свою\" функцию\n",
    "    '''Запускаем игру 1000 раз, чтоб узнать как быстро игра угадывает число'''\n",
    "    count_ls = []\n",
    "    np.random.seed(1)  # фиксируем RANDOM SEED, чтобы ваш эксперимент был воспроизводим!\n",
    "    random_array = np.random.randint(1, 101, size=(1000))\n",
    "    for current in random_array: #вот тут замена number на current \n",
    "        count_ls.append(game_core_v4(current)) #вот тут замена number на current \n",
    "    score = int(np.mean(count_ls))\n",
    "    print(f\"Ваш алгоритм угадывает число в среднем за {score} попыток\")\n",
    "    return(score)\n",
    "\n",
    "# запускаем\n",
    "score_game(game_core_v4) # в качестве аргумента указала \"свою\" функцию"
   ]
  },
  {
   "cell_type": "code",
   "execution_count": null,
   "metadata": {},
   "outputs": [],
   "source": []
  }
 ],
 "metadata": {
  "kernelspec": {
   "display_name": "Python 3",
   "language": "python",
   "name": "python3"
  },
  "language_info": {
   "codemirror_mode": {
    "name": "ipython",
    "version": 3
   },
   "file_extension": ".py",
   "mimetype": "text/x-python",
   "name": "python",
   "nbconvert_exporter": "python",
   "pygments_lexer": "ipython3",
   "version": "3.7.4"
  }
 },
 "nbformat": 4,
 "nbformat_minor": 2
}
