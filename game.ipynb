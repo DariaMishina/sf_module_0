{
 "cells": [
  {
   "cell_type": "code",
   "execution_count": 1,
   "metadata": {},
   "outputs": [
    {
     "name": "stdout",
     "output_type": "stream",
     "text": [
      "Ваш алгоритм угадывает значение в среднем за 5 попыток\n"
     ]
    },
    {
     "data": {
      "text/plain": [
       "5"
      ]
     },
     "execution_count": 1,
     "metadata": {},
     "output_type": "execute_result"
    }
   ],
   "source": [
    "import numpy as np\n",
    "def game_core_v3():\n",
    "    count = 0\n",
    "    N = 100\n",
    "    predict = np.random.randint(1,N)\n",
    "    \n",
    "    left = 1\n",
    "    right = N\n",
    "    while left <= right:\n",
    "        count += 1\n",
    "        current = (left+right)//2\n",
    "        if predict < current:\n",
    "            right = current - 1\n",
    "        elif predict > current:\n",
    "            left = current + 1\n",
    "        else:\n",
    "            break\n",
    "    return count\n",
    "\n",
    "\n",
    "def score_game(game_core_v3):\n",
    "    ls_count = []\n",
    "    for i in range(1,1001):\n",
    "        c = game_core_v3()\n",
    "        ls_count.append(c)\n",
    "    score = int(np.mean(ls_count))\n",
    "    print('Ваш алгоритм угадывает значение в среднем за {} попыток'.format(score))\n",
    "    #Для отладки можно вернуть весь список\n",
    "    #return ls_count\n",
    "    return score\n",
    "\n",
    "\n",
    "score_game(game_core_v3)"
   ]
  },
  {
   "cell_type": "code",
   "execution_count": null,
   "metadata": {},
   "outputs": [],
   "source": []
  }
 ],
 "metadata": {
  "kernelspec": {
   "display_name": "Python 3",
   "language": "python",
   "name": "python3"
  },
  "language_info": {
   "codemirror_mode": {
    "name": "ipython",
    "version": 3
   },
   "file_extension": ".py",
   "mimetype": "text/x-python",
   "name": "python",
   "nbconvert_exporter": "python",
   "pygments_lexer": "ipython3",
   "version": "3.7.4"
  }
 },
 "nbformat": 4,
 "nbformat_minor": 2
}
